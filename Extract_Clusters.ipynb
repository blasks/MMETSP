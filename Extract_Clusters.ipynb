{
 "cells": [
  {
   "cell_type": "code",
   "execution_count": 3,
   "metadata": {
    "collapsed": false
   },
   "outputs": [],
   "source": [
    "import pandas as pd\n",
    "import matplotlib.pyplot as plt\n",
    "import matplotlib as mpl\n",
    "import palettable as pal\n",
    "import os.path\n",
    "import os\n"
   ]
  },
  {
   "cell_type": "code",
   "execution_count": 4,
   "metadata": {
    "collapsed": false
   },
   "outputs": [],
   "source": [
    "mmseq_out = 'clustered.c3.s9.SRR_batch1.fa'\n",
    "\n",
    "def importMMSeq(mmseq_output_name):\n",
    "\n",
    "    h = open(mmseq_out, 'r')\n",
    "    c=0\n",
    "    #og_num=0\n",
    "    outOG={}\n",
    "    #og_nums={}\n",
    "    #MM_Nums=pd.DataFrame(columns=['Number of Genes in OG'])\n",
    "    for line in h:\n",
    "        if line.startswith('>'):\n",
    "            #if og_num!=0:\n",
    "            #    og_nums[OG]=og_num\n",
    "            c+=1\n",
    "            #og_num=0\n",
    "            cstr=str(c).zfill(6)\n",
    "            OG='OG_'+cstr\n",
    "            outOG[OG]=set()\n",
    "        else:\n",
    "            outOG[OG].add(line.strip())\n",
    "            #og_num+=1\n",
    "    return outOG\n",
    "\n",
    "MM_Dict = importMMSeq(mmseq_out)"
   ]
  },
  {
   "cell_type": "code",
   "execution_count": 14,
   "metadata": {
    "collapsed": false
   },
   "outputs": [
    {
     "data": {
      "text/plain": [
       "(73, 340742)"
      ]
     },
     "execution_count": 14,
     "metadata": {},
     "output_type": "execute_result"
    }
   ],
   "source": [
    "def get_specieslist(listoffiles):\n",
    "    specieslist=[]\n",
    "    for filename in listoffiles:\n",
    "        if filename.endswith(\".quant.counts\"):\n",
    "            filename_info=filename.split(\".\")\n",
    "            species=filename_info[0]\n",
    "            specieslist.append(species)\n",
    "    return specieslist\n",
    "\n",
    "# to intiate the dictionary, get number of species from filenames of counts\n",
    "# concatenate counts files into one counts file\n",
    "# read transcript by transcript, get count\n",
    "# ask \n",
    "\n",
    "counts_dir=\"counts/\"  \n",
    "listofcountsfiles=os.listdir(counts_dir)\n",
    "species_num=len(listofcountsfiles)\n",
    "species_list=get_specieslist(listofcountsfiles)\n",
    "\n",
    "OG=MM_Dict.keys()\n",
    "counts=pd.DataFrame(0,index=species_list,columns=OG)\n",
    "counts.shape\n",
    "        \n",
    "\n",
    "            \n"
   ]
  },
  {
   "cell_type": "code",
   "execution_count": 8,
   "metadata": {
    "collapsed": false
   },
   "outputs": [
    {
     "data": {
      "text/html": [
       "<div>\n",
       "<table border=\"1\" class=\"dataframe\">\n",
       "  <thead>\n",
       "    <tr style=\"text-align: right;\">\n",
       "      <th></th>\n",
       "      <th>OG_312522</th>\n",
       "      <th>OG_110329</th>\n",
       "      <th>OG_110328</th>\n",
       "      <th>OG_204163</th>\n",
       "      <th>OG_091329</th>\n",
       "      <th>OG_091328</th>\n",
       "      <th>OG_091327</th>\n",
       "      <th>OG_091326</th>\n",
       "      <th>OG_091325</th>\n",
       "      <th>OG_091324</th>\n",
       "      <th>...</th>\n",
       "      <th>OG_092678</th>\n",
       "      <th>OG_092679</th>\n",
       "      <th>OG_092674</th>\n",
       "      <th>OG_092675</th>\n",
       "      <th>OG_092676</th>\n",
       "      <th>OG_092677</th>\n",
       "      <th>OG_092670</th>\n",
       "      <th>OG_092671</th>\n",
       "      <th>OG_092672</th>\n",
       "      <th>OG_092673</th>\n",
       "    </tr>\n",
       "  </thead>\n",
       "  <tbody>\n",
       "    <tr>\n",
       "      <th>SRR1300371</th>\n",
       "      <td>0</td>\n",
       "      <td>0</td>\n",
       "      <td>0</td>\n",
       "      <td>0</td>\n",
       "      <td>0</td>\n",
       "      <td>0</td>\n",
       "      <td>0</td>\n",
       "      <td>0</td>\n",
       "      <td>0</td>\n",
       "      <td>0</td>\n",
       "      <td>...</td>\n",
       "      <td>0</td>\n",
       "      <td>0</td>\n",
       "      <td>0</td>\n",
       "      <td>0</td>\n",
       "      <td>0</td>\n",
       "      <td>0</td>\n",
       "      <td>0</td>\n",
       "      <td>0</td>\n",
       "      <td>0</td>\n",
       "      <td>0</td>\n",
       "    </tr>\n",
       "    <tr>\n",
       "      <th>SRR1328074</th>\n",
       "      <td>0</td>\n",
       "      <td>0</td>\n",
       "      <td>0</td>\n",
       "      <td>0</td>\n",
       "      <td>0</td>\n",
       "      <td>0</td>\n",
       "      <td>0</td>\n",
       "      <td>0</td>\n",
       "      <td>0</td>\n",
       "      <td>0</td>\n",
       "      <td>...</td>\n",
       "      <td>0</td>\n",
       "      <td>0</td>\n",
       "      <td>0</td>\n",
       "      <td>0</td>\n",
       "      <td>0</td>\n",
       "      <td>0</td>\n",
       "      <td>0</td>\n",
       "      <td>0</td>\n",
       "      <td>0</td>\n",
       "      <td>0</td>\n",
       "    </tr>\n",
       "    <tr>\n",
       "      <th>SRR1300355</th>\n",
       "      <td>0</td>\n",
       "      <td>0</td>\n",
       "      <td>0</td>\n",
       "      <td>0</td>\n",
       "      <td>0</td>\n",
       "      <td>0</td>\n",
       "      <td>0</td>\n",
       "      <td>0</td>\n",
       "      <td>0</td>\n",
       "      <td>0</td>\n",
       "      <td>...</td>\n",
       "      <td>0</td>\n",
       "      <td>0</td>\n",
       "      <td>0</td>\n",
       "      <td>0</td>\n",
       "      <td>0</td>\n",
       "      <td>0</td>\n",
       "      <td>0</td>\n",
       "      <td>0</td>\n",
       "      <td>0</td>\n",
       "      <td>0</td>\n",
       "    </tr>\n",
       "    <tr>\n",
       "      <th>SRR1300497</th>\n",
       "      <td>0</td>\n",
       "      <td>0</td>\n",
       "      <td>0</td>\n",
       "      <td>0</td>\n",
       "      <td>0</td>\n",
       "      <td>0</td>\n",
       "      <td>0</td>\n",
       "      <td>0</td>\n",
       "      <td>0</td>\n",
       "      <td>0</td>\n",
       "      <td>...</td>\n",
       "      <td>0</td>\n",
       "      <td>0</td>\n",
       "      <td>0</td>\n",
       "      <td>0</td>\n",
       "      <td>0</td>\n",
       "      <td>0</td>\n",
       "      <td>0</td>\n",
       "      <td>0</td>\n",
       "      <td>0</td>\n",
       "      <td>0</td>\n",
       "    </tr>\n",
       "    <tr>\n",
       "      <th>SRR1300495</th>\n",
       "      <td>0</td>\n",
       "      <td>0</td>\n",
       "      <td>0</td>\n",
       "      <td>0</td>\n",
       "      <td>0</td>\n",
       "      <td>0</td>\n",
       "      <td>0</td>\n",
       "      <td>0</td>\n",
       "      <td>0</td>\n",
       "      <td>0</td>\n",
       "      <td>...</td>\n",
       "      <td>0</td>\n",
       "      <td>0</td>\n",
       "      <td>0</td>\n",
       "      <td>0</td>\n",
       "      <td>0</td>\n",
       "      <td>0</td>\n",
       "      <td>0</td>\n",
       "      <td>0</td>\n",
       "      <td>0</td>\n",
       "      <td>0</td>\n",
       "    </tr>\n",
       "  </tbody>\n",
       "</table>\n",
       "<p>5 rows × 340742 columns</p>\n",
       "</div>"
      ],
      "text/plain": [
       "            OG_312522  OG_110329  OG_110328  OG_204163  OG_091329  OG_091328  \\\n",
       "SRR1300371          0          0          0          0          0          0   \n",
       "SRR1328074          0          0          0          0          0          0   \n",
       "SRR1300355          0          0          0          0          0          0   \n",
       "SRR1300497          0          0          0          0          0          0   \n",
       "SRR1300495          0          0          0          0          0          0   \n",
       "\n",
       "            OG_091327  OG_091326  OG_091325  OG_091324    ...      OG_092678  \\\n",
       "SRR1300371          0          0          0          0    ...              0   \n",
       "SRR1328074          0          0          0          0    ...              0   \n",
       "SRR1300355          0          0          0          0    ...              0   \n",
       "SRR1300497          0          0          0          0    ...              0   \n",
       "SRR1300495          0          0          0          0    ...              0   \n",
       "\n",
       "            OG_092679  OG_092674  OG_092675  OG_092676  OG_092677  OG_092670  \\\n",
       "SRR1300371          0          0          0          0          0          0   \n",
       "SRR1328074          0          0          0          0          0          0   \n",
       "SRR1300355          0          0          0          0          0          0   \n",
       "SRR1300497          0          0          0          0          0          0   \n",
       "SRR1300495          0          0          0          0          0          0   \n",
       "\n",
       "            OG_092671  OG_092672  OG_092673  \n",
       "SRR1300371          0          0          0  \n",
       "SRR1328074          0          0          0  \n",
       "SRR1300355          0          0          0  \n",
       "SRR1300497          0          0          0  \n",
       "SRR1300495          0          0          0  \n",
       "\n",
       "[5 rows x 340742 columns]"
      ]
     },
     "execution_count": 8,
     "metadata": {},
     "output_type": "execute_result"
    }
   ],
   "source": [
    "counts.head()"
   ]
  },
  {
   "cell_type": "code",
   "execution_count": 15,
   "metadata": {
    "collapsed": false
   },
   "outputs": [],
   "source": [
    "counts_dict={}\n",
    "h=open(\"counts/batch1.mmetsp.counts\",\"r\")\n",
    "for line in h:\n",
    "    count_line=line.split(\"\\t\")\n",
    "    gene=count_line[0].strip()\n",
    "    gene_counts=int(count_line[1])\n",
    "    counts_dict[gene]=gene_counts"
   ]
  },
  {
   "cell_type": "code",
   "execution_count": 17,
   "metadata": {
    "collapsed": false
   },
   "outputs": [],
   "source": [
    "c=0\n",
    "for OG in MM_Dict.keys():\n",
    "    for gene in MM_Dict[OG]:\n",
    "        species=gene.split(\"_\")[0]\n",
    "        counts.loc[species,OG]+=counts_dict[gene]"
   ]
  },
  {
   "cell_type": "code",
   "execution_count": 18,
   "metadata": {
    "collapsed": false
   },
   "outputs": [],
   "source": [
    "counts.to_csv(\"batch1.mmetsp.OGcounts.csv\")"
   ]
  },
  {
   "cell_type": "code",
   "execution_count": 19,
   "metadata": {
    "collapsed": true
   },
   "outputs": [],
   "source": [
    "counts_nozero=counts[counts.columns[(counts > 0).astype(int).sum(axis=0)>1]]"
   ]
  },
  {
   "cell_type": "code",
   "execution_count": 20,
   "metadata": {
    "collapsed": false
   },
   "outputs": [
    {
     "data": {
      "text/plain": [
       "(73, 80909)"
      ]
     },
     "execution_count": 20,
     "metadata": {},
     "output_type": "execute_result"
    }
   ],
   "source": [
    "counts_nozero.to_csv('')"
   ]
  },
  {
   "cell_type": "code",
   "execution_count": null,
   "metadata": {
    "collapsed": true
   },
   "outputs": [],
   "source": []
  }
 ],
 "metadata": {
  "kernelspec": {
   "display_name": "Python 2",
   "language": "python",
   "name": "python2"
  },
  "language_info": {
   "codemirror_mode": {
    "name": "ipython",
    "version": 2
   },
   "file_extension": ".py",
   "mimetype": "text/x-python",
   "name": "python",
   "nbconvert_exporter": "python",
   "pygments_lexer": "ipython2",
   "version": "2.7.11"
  }
 },
 "nbformat": 4,
 "nbformat_minor": 0
}
